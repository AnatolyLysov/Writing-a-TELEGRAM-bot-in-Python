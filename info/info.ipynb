{
 "cells": [
  {
   "cell_type": "markdown",
   "source": [
    "https://www.youtube.com/watch?v=M8fhrtvedHA&t=3s"
   ],
   "metadata": {
    "collapsed": false
   },
   "id": "3c11d7428a514151"
  },
  {
   "cell_type": "code",
   "execution_count": null,
   "outputs": [],
   "source": [],
   "metadata": {
    "collapsed": false
   },
   "id": "9561dd98b27dcb4d"
  }
 ],
 "metadata": {
  "kernelspec": {
   "display_name": "Python 3",
   "language": "python",
   "name": "python3"
  },
  "language_info": {
   "codemirror_mode": {
    "name": "ipython",
    "version": 2
   },
   "file_extension": ".py",
   "mimetype": "text/x-python",
   "name": "python",
   "nbconvert_exporter": "python",
   "pygments_lexer": "ipython2",
   "version": "2.7.6"
  }
 },
 "nbformat": 4,
 "nbformat_minor": 5
}
