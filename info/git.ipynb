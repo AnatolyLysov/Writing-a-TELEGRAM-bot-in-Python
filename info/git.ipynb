{
 "cells": [
  {
   "cell_type": "markdown",
   "source": [
    "https://github.com/dashboard"
   ],
   "metadata": {
    "collapsed": false
   },
   "id": "2c59e96afd17220c"
  },
  {
   "cell_type": "markdown",
   "source": [
    "создать на GitHub удаленный репозиторий, а потом перенести его на свой ПК\n",
    "\n",
    "create a new repository on the command line\n",
    "echo \"# Writing-a-TELEGRAM-bot-in-Python\" >> README.md\n",
    "git init\n",
    "git add README.md\n",
    "git commit -m \"first commit\"\n",
    "git branch -M main\n",
    "git remote add origin https://github.com/AnatolyLysov/Writing-a-TELEGRAM-bot-in-Python.git\n",
    "git push -u origin main"
   ],
   "metadata": {
    "collapsed": false
   },
   "id": "f60c16172cf16739"
  },
  {
   "cell_type": "markdown",
   "source": [
    "или создать проект  на PyCharm, сделать из него локальный репозиторий а потом перенести этот репозиторий на предварительно созданный на GitHub пустой репозиторий \n",
    "\n",
    "12:39:59.469: [Пишем TELEGRAM бота на Python] git -c credential.helper= -c core.quotepath=false -c log.showSignature=false init\n",
    "Initialized empty Git repository in Z:/4_Python/Пишем TELEGRAM бота на Python/.git/\n",
    "\n",
    "push an existing repository from the command line\n",
    "git remote add origin https://github.com/AnatolyLysov/Writing-a-TELEGRAM-bot-in-Python.git\n",
    "git branch -M main\n",
    "git push -u origin main"
   ],
   "metadata": {
    "collapsed": false
   },
   "id": "d9836f698caf5710"
  },
  {
   "cell_type": "code",
   "execution_count": null,
   "outputs": [],
   "source": [],
   "metadata": {
    "collapsed": false
   },
   "id": "7847b93c5e904d8b"
  }
 ],
 "metadata": {
  "kernelspec": {
   "display_name": "Python 3",
   "language": "python",
   "name": "python3"
  },
  "language_info": {
   "codemirror_mode": {
    "name": "ipython",
    "version": 2
   },
   "file_extension": ".py",
   "mimetype": "text/x-python",
   "name": "python",
   "nbconvert_exporter": "python",
   "pygments_lexer": "ipython2",
   "version": "2.7.6"
  }
 },
 "nbformat": 4,
 "nbformat_minor": 5
}
